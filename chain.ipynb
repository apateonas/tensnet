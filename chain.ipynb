{
 "cells": [
  {
   "cell_type": "code",
   "execution_count": null,
   "source": [
    "using ITensors\n",
    "using Plots\n",
    "using Plots.PlotMeasures\n",
    "using Parameters"
   ],
   "outputs": [],
   "metadata": {}
  },
  {
   "cell_type": "markdown",
   "source": [
    "### Build Geometry"
   ],
   "metadata": {}
  },
  {
   "cell_type": "code",
   "execution_count": null,
   "source": [
    "# Build 1D chain\n",
    "# using the Lattice vector is overkill for a chain but makes it easy to\n",
    "# generalize to other geometries\n",
    "function chain_nearest_lattices(n; is_periodic = false, neighbor = 1)\n",
    "  nbonds = n - (is_periodic ? 0 : neighbor)\n",
    "  chain = Lattice(undef, nbonds)\n",
    "  for i in 1:nbonds\n",
    "    chain[i] = LatticeBond(i, ((i + neighbor - 1) % n) + 1)\n",
    "  end\n",
    "  chain\n",
    "end"
   ],
   "outputs": [],
   "metadata": {}
  },
  {
   "cell_type": "code",
   "execution_count": null,
   "source": [
    "# TODO: switch between Heisenberg and Ising Hamiltonians\n",
    "\n",
    "# struct HamiltonianType{T}\n",
    "# end\n",
    "\n",
    "# HamiltonianType(s::AbstractString) = HamiltonianType{Symbol(s)}()\n",
    "\n",
    "# macro HamiltonianType_str(s)\n",
    "#   return HamiltonianType{Symbol(s)}\n",
    "# end\n",
    "\n",
    "# build_hamiltonian(s::String) = build_hamiltonian(HamiltonianType(s))"
   ],
   "outputs": [],
   "metadata": {}
  },
  {
   "cell_type": "markdown",
   "source": [
    "### Build the Heisenberg Hamiltonian\n",
    "\n",
    "$$ H = J_1\\sum_i S_i \\cdot S_{i + 1} + h\\sum_i S_i^z = J_1\\bigg(\\sum_i S_i^zS_{i+1}^z + \\frac{1}{2}S_i^+S_{i+1}^- + \\frac{1}{2}S_i^-S_{i+1}^+\\bigg) + h\\sum_i S_i^z$$"
   ],
   "metadata": {}
  },
  {
   "cell_type": "code",
   "execution_count": null,
   "source": [
    "function build_hamiltonian(sites, nearest::Lattice, J1::Real, next_nearest::Lattice, J2::Real, h::Real)\n",
    "    ampo = OpSum()\n",
    "\n",
    "    for b in nearest\n",
    "        ampo +=       J1, \"Sz\", b.s1, \"Sz\", b.s2\n",
    "        ampo += 0.5 * J1, \"S+\", b.s1, \"S-\", b.s2\n",
    "        ampo += 0.5 * J1, \"S-\", b.s1, \"S+\", b.s2\n",
    "    end\n",
    "\n",
    "    for b in next_nearest\n",
    "        ampo +=       J2, \"Sz\", b.s1, \"Sz\", b.s2\n",
    "        ampo += 0.5 * J2, \"S+\", b.s1, \"S-\", b.s2\n",
    "        ampo += 0.5 * J2, \"S-\", b.s1, \"S+\", b.s2\n",
    "    end\n",
    "\n",
    "    for i in 1:length(sites)\n",
    "        ampo += h, \"Sz\", i\n",
    "    end\n",
    "\n",
    "    MPO(ampo, sites)\n",
    "end"
   ],
   "outputs": [],
   "metadata": {}
  },
  {
   "cell_type": "markdown",
   "source": [
    "### Build the Ising Hamiltonian\n",
    "\n",
    "$$ H = -J(\\sum_i S^z_i \\cdot S^z_{i + 1} + g\\sum_i S^x_i)$$"
   ],
   "metadata": {}
  },
  {
   "cell_type": "code",
   "execution_count": null,
   "source": [
    "function build_hamiltonian(sites, chain::Lattice, J::Real, g::Real)\n",
    "  ampo = OpSum()\n",
    "\n",
    "  for b in chain\n",
    "      ampo += -J, \"Sz\", b.s1, \"Sz\", b.s2\n",
    "      ampo += -g * J, \"Sx\", b.s1\n",
    "  end\n",
    "\n",
    "  MPO(ampo, sites)\n",
    "enda"
   ],
   "outputs": [],
   "metadata": {}
  },
  {
   "cell_type": "markdown",
   "source": [
    "### Run DMRG"
   ],
   "metadata": {}
  },
  {
   "cell_type": "code",
   "execution_count": null,
   "source": [
    "@with_kw struct SweepParams\n",
    "  num::Int\n",
    "  dims::Array{Int}\n",
    "  cutoff::Real\n",
    "end\n",
    "\n",
    "@with_kw struct DMRGParams\n",
    "  initial_bond_dimension::Int\n",
    "  sweep::SweepParams\n",
    "end\n",
    "\n",
    "function run_dmrg(sites, H, ψ₀, params::DMRGParams)\n",
    "  sweeps = Sweeps(params.sweep.num)\n",
    "  setmaxdim!(sweeps, params.sweep.dims...)\n",
    "  setcutoff!(sweeps, params.sweep.cutoff)\n",
    "\n",
    "  return dmrg(H, ψ₀, sweeps);\n",
    "end"
   ],
   "outputs": [],
   "metadata": {}
  },
  {
   "cell_type": "code",
   "execution_count": null,
   "source": [
    "\"\"\"\n",
    "Pattern for a parameterized type which allows making literals into types. \n",
    "This allows for new types to be defined across the codebase and leveraging \n",
    "multiple dispatch.\n",
    "\"\"\"\n",
    "\n",
    "struct InitialStateType{T}\n",
    "end\n",
    "\n",
    "InitialStateType(s::AbstractString) = InitialStateType{Symbol(s)}()\n",
    "\n",
    "macro InitialStateType_str(s)\n",
    "  return InitialStateType{Symbol(s)}\n",
    "end\n",
    "\n",
    "function build_initial_state(t::InitialStateType\"alt\", sites)\n",
    "  state = [isodd(n) ? \"Up\" : \"Dn\" for n=1:length(sites)]\n",
    "  return productMPS(sites, state)\n",
    "end\n",
    "\n",
    "function build_initial_state(t::InitialStateType\"all up\", sites)\n",
    "  state = fill(\"Up\", length(sites))\n",
    "  return productMPS(sites, state)\n",
    "end\n",
    "\n",
    "function build_initial_state(t::InitialStateType\"random\", sites)\n",
    "  return randomMPS(sites, )\n",
    "end\n",
    "\n",
    "build_initial_state(s::AbstractString, sites) = build_initial_state(InitialStateType(s), sites)"
   ],
   "outputs": [],
   "metadata": {}
  },
  {
   "cell_type": "code",
   "execution_count": null,
   "source": [
    "@with_kw struct ChainParams\n",
    "  n::Int\n",
    "  is_periodic::Bool = false\n",
    "end\n",
    "\n",
    "@with_kw struct HeisenbergParams\n",
    "  chainparams::ChainParams\n",
    "  dmrgparams::DMRGParams\n",
    "  sitetype::String\n",
    "  J1::Real\n",
    "  J2::Real = 0\n",
    "  h::Real = 0\n",
    "  initial_state_type::String = \"alt\"\n",
    "end\n",
    "\n",
    "function make_observations(ψ, params::HeisenbergParams)\n",
    "  n = params.chainparams.n\n",
    "\n",
    "  # Sz expectation on each site\n",
    "  szs = expect(ψ, \"Sz\")\n",
    "  szexpplot = plot(szs, title = \"S_z expectation\")\n",
    "  ylims!(-0.6, 0.6)\n",
    "  xlabel!(\"Site\")\n",
    "  ylabel!(\"<S_z>\")\n",
    "\n",
    "  # Sz correlation\n",
    "  cm = correlation_matrix(ψ, \"Sz\", \"Sz\")\n",
    "  qrt = floor(Integer, n/4)\n",
    "  szcorrplot = plot(abs.(cm[qrt, qrt:(3*qrt)]),  title = \"S_z correlation\")\n",
    "  xlabel!(\"Site\")\n",
    "\n",
    "  println(\"\\nN = $n, J1 = $(params.J1), J2 = $(params.J2)\")\n",
    "  p = plot(szexpplot, szcorrplot, layout = (2, 1), titlefontsize=11, legend=false)\n",
    "  display(p)\n",
    "  \n",
    "  return nothing\n",
    "end"
   ],
   "outputs": [],
   "metadata": {}
  },
  {
   "cell_type": "code",
   "execution_count": null,
   "source": [
    "function run_heisenberg_model(params:: HeisenbergParams)\n",
    "  @unpack chainparams, dmrgparams, sitetype, J1, J2, h, initial_state_type = params\n",
    "\n",
    "  sites = siteinds(sitetype, chainparams.n; conserve_qns = true)\n",
    "\n",
    "  nearest = chain_nearest_lattices(chainparams.n, is_periodic=chainparams.is_periodic, neighbor=1)\n",
    "  next_nearest = chain_nearest_lattices(chainparams.n, is_periodic=chainparams.is_periodic, neighbor=2)\n",
    "  H = build_hamiltonian(sites, nearest, J1, next_nearest, J2, h)\n",
    "\n",
    "  ψ₀ =  build_initial_state(initial_state_type, sites)\n",
    "  energy, ψ = run_dmrg(sites, H, ψ₀, dmrgparams)\n",
    "  \n",
    "  make_observations(ψ, params)\n",
    "  \n",
    "  return ψ\n",
    "end"
   ],
   "outputs": [],
   "metadata": {}
  },
  {
   "cell_type": "markdown",
   "source": [
    "# 10 S=1/2 J1"
   ],
   "metadata": {}
  },
  {
   "cell_type": "code",
   "execution_count": null,
   "source": [
    "chainparams = ChainParams(n = 5, is_periodic=false)\n",
    "sweepparams = SweepParams(num = 10, dims = [5, 10, 20, 100, 100], cutoff = 1E-8)\n",
    "dmrgparams = DMRGParams(initial_bond_dimension = 10, sweep=sweepparams)\n",
    "heisenbergparams = HeisenbergParams(sitetype = \"S=1/2\", J1 = 1, chainparams = chainparams, dmrgparams = dmrgparams)\n",
    "\n",
    "run_heisenberg_model(heisenbergparams);"
   ],
   "outputs": [],
   "metadata": {}
  },
  {
   "cell_type": "code",
   "execution_count": null,
   "source": [
    "chainparams = ChainParams(n = 50)\n",
    "sweepparams = SweepParams(num = 10, dims = [5, 10, 20, 100, 100], cutoff = 1E-8)\n",
    "dmrgparams = DMRGParams(initial_bond_dimension = 10, sweep=sweepparams)\n",
    "heisenbergparams = HeisenbergParams(sitetype = \"S=1/2\", J1 = 1, chainparams = chainparams, dmrgparams = dmrgparams)\n",
    "\n",
    "run_heisenberg_model(heisenbergparams);"
   ],
   "outputs": [],
   "metadata": {}
  },
  {
   "cell_type": "code",
   "execution_count": null,
   "source": [
    "chainparams = ChainParams(n = 200)\n",
    "sweepparams = SweepParams(num = 10, dims = [5, 10, 20, 100, 100], cutoff = 1E-8)\n",
    "dmrgparams = DMRGParams(initial_bond_dimension = 10, sweep=sweepparams)\n",
    "heisenbergparams = HeisenbergParams(sitetype = \"S=1/2\", J1 = 1, chainparams = chainparams, dmrgparams = dmrgparams)\n",
    "\n",
    "run_heisenberg_model(heisenbergparams);"
   ],
   "outputs": [],
   "metadata": {}
  },
  {
   "cell_type": "code",
   "execution_count": null,
   "source": [
    "chainparams = ChainParams(n = 100)\n",
    "sweepparams = SweepParams(num = 10, dims = [5, 10, 20, 100, 100], cutoff = 1E-8)\n",
    "dmrgparams = DMRGParams(initial_bond_dimension = 10, sweep=sweepparams)\n",
    "heisenbergparams = HeisenbergParams(sitetype = \"S=1/2\", J1 = -1, chainparams = chainparams, dmrgparams = dmrgparams)\n",
    "\n",
    "run_heisenberg_model(heisenbergparams);"
   ],
   "outputs": [],
   "metadata": {}
  },
  {
   "cell_type": "code",
   "execution_count": null,
   "source": [
    "chainparams = ChainParams(n = 50)\n",
    "sweepparams = SweepParams(num = 10, dims = [5, 10, 20, 100, 100], cutoff = 1E-8)\n",
    "dmrgparams = DMRGParams(initial_bond_dimension = 10, sweep=sweepparams)\n",
    "heisenbergparams = HeisenbergParams(sitetype = \"S=1/2\", J1 = 1, J2 = 0.1, chainparams = chainparams, dmrgparams = dmrgparams)\n",
    "\n",
    "run_heisenberg_model(heisenbergparams);"
   ],
   "outputs": [],
   "metadata": {}
  },
  {
   "cell_type": "code",
   "execution_count": null,
   "source": [
    "chainparams = ChainParams(n = 50)\n",
    "sweepparams = SweepParams(num = 10, dims = [5, 10, 20, 100, 100], cutoff = 1E-8)\n",
    "dmrgparams = DMRGParams(initial_bond_dimension = 10, sweep=sweepparams)\n",
    "heisenbergparams = HeisenbergParams(sitetype = \"S=1/2\", J1 = 1, J2 = 1, chainparams = chainparams, dmrgparams = dmrgparams)\n",
    "\n",
    "run_heisenberg_model(heisenbergparams);"
   ],
   "outputs": [],
   "metadata": {}
  },
  {
   "cell_type": "code",
   "execution_count": null,
   "source": [
    "chainparams = ChainParams(n = 50)\n",
    "sweepparams = SweepParams(num = 10, dims = [5, 10, 20, 100, 100], cutoff = 1E-8)\n",
    "dmrgparams = DMRGParams(initial_bond_dimension = 10, sweep=sweepparams)\n",
    "heisenbergparams = HeisenbergParams(sitetype = \"S=1/2\", J1 = 1, J2 = 10, chainparams = chainparams, dmrgparams = dmrgparams)\n",
    "\n",
    "run_heisenberg_model(heisenbergparams);"
   ],
   "outputs": [],
   "metadata": {}
  },
  {
   "cell_type": "code",
   "execution_count": null,
   "source": [
    "chainparams = ChainParams(n = 50)\n",
    "sweepparams = SweepParams(num = 10, dims = [5, 10, 20, 100, 100], cutoff = 1E-8)\n",
    "dmrgparams = DMRGParams(initial_bond_dimension = 10, sweep=sweepparams)\n",
    "heisenbergparams = HeisenbergParams(sitetype = \"S=1\", J1 = 1, chainparams = chainparams, dmrgparams = dmrgparams)\n",
    "\n",
    "run_heisenberg_model(heisenbergparams);"
   ],
   "outputs": [],
   "metadata": {}
  },
  {
   "cell_type": "code",
   "execution_count": null,
   "source": [
    "chainparams = ChainParams(n = 50)\n",
    "sweepparams = SweepParams(num = 10, dims = [5, 10, 20, 100, 100], cutoff = 1E-8)\n",
    "dmrgparams = DMRGParams(initial_bond_dimension = 10, sweep=sweepparams)\n",
    "heisenbergparams = HeisenbergParams(sitetype = \"S=1\", J1 = -1, chainparams = chainparams, dmrgparams = dmrgparams)\n",
    "\n",
    "run_heisenberg_model(heisenbergparams);"
   ],
   "outputs": [],
   "metadata": {}
  },
  {
   "cell_type": "code",
   "execution_count": null,
   "source": [
    "chainparams = ChainParams(n = 50)\n",
    "sweepparams = SweepParams(num = 10, dims = [5, 10, 20, 100, 100], cutoff = 1E-8)\n",
    "dmrgparams = DMRGParams(initial_bond_dimension = 10, sweep=sweepparams)\n",
    "heisenbergparams = HeisenbergParams(sitetype = \"S=1\", J1 = 1, J2 = 1, chainparams = chainparams, dmrgparams = dmrgparams)\n",
    "\n",
    "run_heisenberg_model(heisenbergparams);"
   ],
   "outputs": [],
   "metadata": {}
  },
  {
   "cell_type": "code",
   "execution_count": null,
   "source": [
    "dd"
   ],
   "outputs": [],
   "metadata": {}
  },
  {
   "cell_type": "code",
   "execution_count": null,
   "source": [],
   "outputs": [],
   "metadata": {}
  }
 ],
 "metadata": {
  "kernelspec": {
   "display_name": "Julia 1.7.3",
   "language": "julia",
   "name": "julia-1.7"
  },
  "language_info": {
   "file_extension": ".jl",
   "mimetype": "application/julia",
   "name": "julia",
   "version": "1.7.3"
  }
 },
 "nbformat": 4,
 "nbformat_minor": 5
}
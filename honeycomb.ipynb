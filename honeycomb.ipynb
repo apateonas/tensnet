{
 "cells": [
  {
   "cell_type": "markdown",
   "source": [
    "## zizag"
   ],
   "metadata": {}
  },
  {
   "cell_type": "code",
   "execution_count": 37,
   "source": [
    "# unit cells\n",
    "nrows = 4\n",
    "ncols = 2\n",
    "\n",
    "ncells = nrows * ncols\n",
    "edges = Tuple{Int64, Int64}[]\n",
    "\n",
    "getnodeidx(row, col, node) = ((row - 1) * ncols + col - 1) * 2 + (node - 1)\n",
    "\n",
    "for row in 1:nrows\n",
    "  for col in 1:ncols\n",
    "    node2idx = getnodeidx(row, col, 2)\n",
    "    # connect node 2 to node 1 in next row and same column\n",
    "    push!(edges, (node2idx, getnodeidx(row + 1, col, 1)))\n",
    "    # connect node 1 to node 2 in next row and previous column\n",
    "    push!(edges, (node2idx, getnodeidx(row + 1, col - 1, 1)))\n",
    "  end\n",
    "end\n",
    "edges"
   ],
   "outputs": [
    {
     "output_type": "execute_result",
     "data": {
      "text/plain": [
       "16-element Vector{Tuple{Int64, Int64}}:\n",
       " (1, 4)\n",
       " (1, 2)\n",
       " (3, 6)\n",
       " (3, 4)\n",
       " (5, 8)\n",
       " (5, 6)\n",
       " (7, 10)\n",
       " (7, 8)\n",
       " (9, 12)\n",
       " (9, 10)\n",
       " (11, 14)\n",
       " (11, 12)\n",
       " (13, 16)\n",
       " (13, 14)\n",
       " (15, 18)\n",
       " (15, 16)"
      ]
     },
     "metadata": {},
     "execution_count": 37
    }
   ],
   "metadata": {}
  },
  {
   "cell_type": "code",
   "execution_count": 28,
   "source": [
    "\n",
    "for row in 1:nrows\n",
    "  for col in 1:ncols\n",
    "    println(rowcoltoidx(row, col))\n",
    "  end\n",
    "end"
   ],
   "outputs": [
    {
     "output_type": "stream",
     "name": "stdout",
     "text": [
      "1\n",
      "2\n",
      "3\n",
      "4\n",
      "5\n",
      "6\n",
      "7\n",
      "8\n"
     ]
    }
   ],
   "metadata": {}
  },
  {
   "cell_type": "code",
   "execution_count": null,
   "source": [],
   "outputs": [],
   "metadata": {}
  }
 ],
 "metadata": {
  "orig_nbformat": 4,
  "language_info": {
   "file_extension": ".jl",
   "name": "julia",
   "mimetype": "application/julia",
   "version": "1.7.3"
  },
  "kernelspec": {
   "name": "julia-1.7",
   "display_name": "Julia 1.7.3",
   "language": "julia"
  }
 },
 "nbformat": 4,
 "nbformat_minor": 2
}